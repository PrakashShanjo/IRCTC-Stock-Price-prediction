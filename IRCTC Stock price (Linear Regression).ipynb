{
 "cells": [
  {
   "cell_type": "markdown",
   "id": "a394079b",
   "metadata": {},
   "source": [
    "# IRCTC Stock Price Prediction"
   ]
  },
  {
   "cell_type": "markdown",
   "id": "7075811a",
   "metadata": {},
   "source": [
    "- Data was extracted from National Stock Exchange website.\n",
    "- IRCTC data contains datas from 28/10/2021 to 01/02/2023.\n",
    "- IRCTC : INDIAN RAILWAY CATERING AND TOURISM CORPORATION LIMITED"
   ]
  },
  {
   "cell_type": "markdown",
   "id": "3ec34213",
   "metadata": {},
   "source": [
    "### Data Preparation and Cleaning"
   ]
  },
  {
   "cell_type": "code",
   "execution_count": 1,
   "id": "b4f1a528",
   "metadata": {},
   "outputs": [],
   "source": [
    "import pandas as pd\n",
    "import numpy as np\n",
    "import matplotlib.pyplot as plt\n",
    "import seaborn as sns"
   ]
  },
  {
   "cell_type": "code",
   "execution_count": 2,
   "id": "4356439d",
   "metadata": {},
   "outputs": [],
   "source": [
    "df = pd.read_csv('IRCTC-EQ-28-10-2021-to-02-02-2023.csv')"
   ]
  },
  {
   "cell_type": "code",
   "execution_count": 3,
   "id": "32e25fc4",
   "metadata": {
    "scrolled": true
   },
   "outputs": [
    {
     "data": {
      "text/html": [
       "<div>\n",
       "<style scoped>\n",
       "    .dataframe tbody tr th:only-of-type {\n",
       "        vertical-align: middle;\n",
       "    }\n",
       "\n",
       "    .dataframe tbody tr th {\n",
       "        vertical-align: top;\n",
       "    }\n",
       "\n",
       "    .dataframe thead th {\n",
       "        text-align: right;\n",
       "    }\n",
       "</style>\n",
       "<table border=\"1\" class=\"dataframe\">\n",
       "  <thead>\n",
       "    <tr style=\"text-align: right;\">\n",
       "      <th></th>\n",
       "      <th>Date</th>\n",
       "      <th>series</th>\n",
       "      <th>OPEN</th>\n",
       "      <th>HIGH</th>\n",
       "      <th>LOW</th>\n",
       "      <th>PREV. CLOSE</th>\n",
       "      <th>ltp</th>\n",
       "      <th>close</th>\n",
       "      <th>vwap</th>\n",
       "      <th>52W_H</th>\n",
       "      <th>52W_L</th>\n",
       "      <th>VOLUME</th>\n",
       "      <th>VALUE</th>\n",
       "      <th>No_of_trades</th>\n",
       "    </tr>\n",
       "  </thead>\n",
       "  <tbody>\n",
       "    <tr>\n",
       "      <th>0</th>\n",
       "      <td>28-10-2021</td>\n",
       "      <td>EQ</td>\n",
       "      <td>817.00</td>\n",
       "      <td>983.00</td>\n",
       "      <td>810.00</td>\n",
       "      <td>4,130.15</td>\n",
       "      <td>923.00</td>\n",
       "      <td>913.50</td>\n",
       "      <td>925.41</td>\n",
       "      <td>6,396.30</td>\n",
       "      <td>810.00</td>\n",
       "      <td>59298778</td>\n",
       "      <td>54,87,59,31,755.65</td>\n",
       "      <td>1928611</td>\n",
       "    </tr>\n",
       "    <tr>\n",
       "      <th>1</th>\n",
       "      <td>29-10-2021</td>\n",
       "      <td>EQ</td>\n",
       "      <td>822.15</td>\n",
       "      <td>906.45</td>\n",
       "      <td>639.45</td>\n",
       "      <td>913.5</td>\n",
       "      <td>842.80</td>\n",
       "      <td>845.70</td>\n",
       "      <td>803.28</td>\n",
       "      <td>6,396.30</td>\n",
       "      <td>639.45</td>\n",
       "      <td>82848030</td>\n",
       "      <td>66,55,04,41,966.50</td>\n",
       "      <td>2259771</td>\n",
       "    </tr>\n",
       "    <tr>\n",
       "      <th>2</th>\n",
       "      <td>01-11-2021</td>\n",
       "      <td>EQ</td>\n",
       "      <td>874.20</td>\n",
       "      <td>885.00</td>\n",
       "      <td>809.25</td>\n",
       "      <td>845.7</td>\n",
       "      <td>856.00</td>\n",
       "      <td>855.45</td>\n",
       "      <td>845.02</td>\n",
       "      <td>6,396.30</td>\n",
       "      <td>639.45</td>\n",
       "      <td>29989312</td>\n",
       "      <td>25,34,15,24,475.55</td>\n",
       "      <td>902975</td>\n",
       "    </tr>\n",
       "    <tr>\n",
       "      <th>3</th>\n",
       "      <td>02-11-2021</td>\n",
       "      <td>EQ</td>\n",
       "      <td>868.40</td>\n",
       "      <td>868.80</td>\n",
       "      <td>844.25</td>\n",
       "      <td>855.45</td>\n",
       "      <td>846.50</td>\n",
       "      <td>848.20</td>\n",
       "      <td>853.83</td>\n",
       "      <td>6,396.30</td>\n",
       "      <td>639.45</td>\n",
       "      <td>9742650</td>\n",
       "      <td>8,31,85,99,198.20</td>\n",
       "      <td>308817</td>\n",
       "    </tr>\n",
       "    <tr>\n",
       "      <th>4</th>\n",
       "      <td>03-11-2021</td>\n",
       "      <td>EQ</td>\n",
       "      <td>840.00</td>\n",
       "      <td>848.90</td>\n",
       "      <td>815.10</td>\n",
       "      <td>848.2</td>\n",
       "      <td>819.25</td>\n",
       "      <td>819.85</td>\n",
       "      <td>829.88</td>\n",
       "      <td>6,396.30</td>\n",
       "      <td>639.45</td>\n",
       "      <td>10088006</td>\n",
       "      <td>8,37,18,62,868.90</td>\n",
       "      <td>338884</td>\n",
       "    </tr>\n",
       "  </tbody>\n",
       "</table>\n",
       "</div>"
      ],
      "text/plain": [
       "         Date series    OPEN    HIGH     LOW PREV. CLOSE     ltp   close  \\\n",
       "0  28-10-2021     EQ  817.00  983.00  810.00    4,130.15  923.00  913.50   \n",
       "1  29-10-2021     EQ  822.15  906.45  639.45       913.5  842.80  845.70   \n",
       "2  01-11-2021     EQ  874.20  885.00  809.25       845.7  856.00  855.45   \n",
       "3  02-11-2021     EQ  868.40  868.80  844.25      855.45  846.50  848.20   \n",
       "4  03-11-2021     EQ  840.00  848.90  815.10       848.2  819.25  819.85   \n",
       "\n",
       "     vwap     52W_H   52W_L    VOLUME               VALUE  No_of_trades   \n",
       "0  925.41  6,396.30  810.00  59298778  54,87,59,31,755.65        1928611  \n",
       "1  803.28  6,396.30  639.45  82848030  66,55,04,41,966.50        2259771  \n",
       "2  845.02  6,396.30  639.45  29989312  25,34,15,24,475.55         902975  \n",
       "3  853.83  6,396.30  639.45   9742650   8,31,85,99,198.20         308817  \n",
       "4  829.88  6,396.30  639.45  10088006   8,37,18,62,868.90         338884  "
      ]
     },
     "execution_count": 3,
     "metadata": {},
     "output_type": "execute_result"
    }
   ],
   "source": [
    "df.head()"
   ]
  },
  {
   "cell_type": "code",
   "execution_count": 4,
   "id": "8a0db9c4",
   "metadata": {},
   "outputs": [
    {
     "data": {
      "text/plain": [
       "['Date',\n",
       " 'series',\n",
       " 'OPEN',\n",
       " 'HIGH',\n",
       " 'LOW',\n",
       " 'PREV. CLOSE',\n",
       " 'ltp',\n",
       " 'close',\n",
       " 'vwap',\n",
       " '52W_H',\n",
       " '52W_L',\n",
       " 'VOLUME',\n",
       " 'VALUE',\n",
       " 'No_of_trades ']"
      ]
     },
     "execution_count": 4,
     "metadata": {},
     "output_type": "execute_result"
    }
   ],
   "source": [
    "df.columns.to_list()"
   ]
  },
  {
   "cell_type": "code",
   "execution_count": 5,
   "id": "a8ea4438",
   "metadata": {},
   "outputs": [
    {
     "data": {
      "text/plain": [
       "(315, 14)"
      ]
     },
     "execution_count": 5,
     "metadata": {},
     "output_type": "execute_result"
    }
   ],
   "source": [
    "df.shape"
   ]
  },
  {
   "cell_type": "code",
   "execution_count": 6,
   "id": "6df16ee6",
   "metadata": {},
   "outputs": [
    {
     "name": "stdout",
     "output_type": "stream",
     "text": [
      "<class 'pandas.core.frame.DataFrame'>\n",
      "RangeIndex: 315 entries, 0 to 314\n",
      "Data columns (total 14 columns):\n",
      " #   Column         Non-Null Count  Dtype  \n",
      "---  ------         --------------  -----  \n",
      " 0   Date           315 non-null    object \n",
      " 1   series         315 non-null    object \n",
      " 2   OPEN           315 non-null    float64\n",
      " 3   HIGH           315 non-null    float64\n",
      " 4   LOW            315 non-null    float64\n",
      " 5   PREV. CLOSE    315 non-null    object \n",
      " 6   ltp            315 non-null    float64\n",
      " 7   close          315 non-null    float64\n",
      " 8   vwap           315 non-null    float64\n",
      " 9   52W_H          315 non-null    object \n",
      " 10  52W_L          315 non-null    float64\n",
      " 11  VOLUME         315 non-null    int64  \n",
      " 12  VALUE          315 non-null    object \n",
      " 13  No_of_trades   315 non-null    int64  \n",
      "dtypes: float64(7), int64(2), object(5)\n",
      "memory usage: 34.6+ KB\n"
     ]
    }
   ],
   "source": [
    "df.info()"
   ]
  },
  {
   "cell_type": "code",
   "execution_count": 7,
   "id": "4600e416",
   "metadata": {},
   "outputs": [
    {
     "data": {
      "text/plain": [
       "Date             0\n",
       "series           0\n",
       "OPEN             0\n",
       "HIGH             0\n",
       "LOW              0\n",
       "PREV. CLOSE      0\n",
       "ltp              0\n",
       "close            0\n",
       "vwap             0\n",
       "52W_H            0\n",
       "52W_L            0\n",
       "VOLUME           0\n",
       "VALUE            0\n",
       "No_of_trades     0\n",
       "dtype: int64"
      ]
     },
     "execution_count": 7,
     "metadata": {},
     "output_type": "execute_result"
    }
   ],
   "source": [
    "df.isnull().sum()"
   ]
  },
  {
   "cell_type": "markdown",
   "id": "88e36143",
   "metadata": {},
   "source": [
    "- There is no null values or missing values. Because this data is directly downloaded from NSE website."
   ]
  },
  {
   "cell_type": "markdown",
   "id": "a2237be0",
   "metadata": {},
   "source": [
    "Here, there are unwanted fields which will not helpfull for our ML modeling. So we dropping Series, ltp(data having close price), 52W H(52 week high), 52W L(52 week low)."
   ]
  },
  {
   "cell_type": "code",
   "execution_count": 8,
   "id": "449ca0c5",
   "metadata": {},
   "outputs": [
    {
     "data": {
      "text/html": [
       "<div>\n",
       "<style scoped>\n",
       "    .dataframe tbody tr th:only-of-type {\n",
       "        vertical-align: middle;\n",
       "    }\n",
       "\n",
       "    .dataframe tbody tr th {\n",
       "        vertical-align: top;\n",
       "    }\n",
       "\n",
       "    .dataframe thead th {\n",
       "        text-align: right;\n",
       "    }\n",
       "</style>\n",
       "<table border=\"1\" class=\"dataframe\">\n",
       "  <thead>\n",
       "    <tr style=\"text-align: right;\">\n",
       "      <th></th>\n",
       "      <th>Date</th>\n",
       "      <th>OPEN</th>\n",
       "      <th>HIGH</th>\n",
       "      <th>LOW</th>\n",
       "      <th>PREV. CLOSE</th>\n",
       "      <th>close</th>\n",
       "      <th>vwap</th>\n",
       "      <th>VOLUME</th>\n",
       "      <th>VALUE</th>\n",
       "      <th>No_of_trades</th>\n",
       "    </tr>\n",
       "  </thead>\n",
       "  <tbody>\n",
       "    <tr>\n",
       "      <th>0</th>\n",
       "      <td>28-10-2021</td>\n",
       "      <td>817.00</td>\n",
       "      <td>983.00</td>\n",
       "      <td>810.00</td>\n",
       "      <td>4,130.15</td>\n",
       "      <td>913.50</td>\n",
       "      <td>925.41</td>\n",
       "      <td>59298778</td>\n",
       "      <td>54,87,59,31,755.65</td>\n",
       "      <td>1928611</td>\n",
       "    </tr>\n",
       "    <tr>\n",
       "      <th>1</th>\n",
       "      <td>29-10-2021</td>\n",
       "      <td>822.15</td>\n",
       "      <td>906.45</td>\n",
       "      <td>639.45</td>\n",
       "      <td>913.5</td>\n",
       "      <td>845.70</td>\n",
       "      <td>803.28</td>\n",
       "      <td>82848030</td>\n",
       "      <td>66,55,04,41,966.50</td>\n",
       "      <td>2259771</td>\n",
       "    </tr>\n",
       "    <tr>\n",
       "      <th>2</th>\n",
       "      <td>01-11-2021</td>\n",
       "      <td>874.20</td>\n",
       "      <td>885.00</td>\n",
       "      <td>809.25</td>\n",
       "      <td>845.7</td>\n",
       "      <td>855.45</td>\n",
       "      <td>845.02</td>\n",
       "      <td>29989312</td>\n",
       "      <td>25,34,15,24,475.55</td>\n",
       "      <td>902975</td>\n",
       "    </tr>\n",
       "    <tr>\n",
       "      <th>3</th>\n",
       "      <td>02-11-2021</td>\n",
       "      <td>868.40</td>\n",
       "      <td>868.80</td>\n",
       "      <td>844.25</td>\n",
       "      <td>855.45</td>\n",
       "      <td>848.20</td>\n",
       "      <td>853.83</td>\n",
       "      <td>9742650</td>\n",
       "      <td>8,31,85,99,198.20</td>\n",
       "      <td>308817</td>\n",
       "    </tr>\n",
       "    <tr>\n",
       "      <th>4</th>\n",
       "      <td>03-11-2021</td>\n",
       "      <td>840.00</td>\n",
       "      <td>848.90</td>\n",
       "      <td>815.10</td>\n",
       "      <td>848.2</td>\n",
       "      <td>819.85</td>\n",
       "      <td>829.88</td>\n",
       "      <td>10088006</td>\n",
       "      <td>8,37,18,62,868.90</td>\n",
       "      <td>338884</td>\n",
       "    </tr>\n",
       "  </tbody>\n",
       "</table>\n",
       "</div>"
      ],
      "text/plain": [
       "         Date    OPEN    HIGH     LOW PREV. CLOSE   close    vwap    VOLUME  \\\n",
       "0  28-10-2021  817.00  983.00  810.00    4,130.15  913.50  925.41  59298778   \n",
       "1  29-10-2021  822.15  906.45  639.45       913.5  845.70  803.28  82848030   \n",
       "2  01-11-2021  874.20  885.00  809.25       845.7  855.45  845.02  29989312   \n",
       "3  02-11-2021  868.40  868.80  844.25      855.45  848.20  853.83   9742650   \n",
       "4  03-11-2021  840.00  848.90  815.10       848.2  819.85  829.88  10088006   \n",
       "\n",
       "                VALUE  No_of_trades   \n",
       "0  54,87,59,31,755.65        1928611  \n",
       "1  66,55,04,41,966.50        2259771  \n",
       "2  25,34,15,24,475.55         902975  \n",
       "3   8,31,85,99,198.20         308817  \n",
       "4   8,37,18,62,868.90         338884  "
      ]
     },
     "execution_count": 8,
     "metadata": {},
     "output_type": "execute_result"
    }
   ],
   "source": [
    "df.drop(['series', 'ltp', '52W_H', '52W_L'], axis=1, inplace=True)\n",
    "df.head()"
   ]
  },
  {
   "cell_type": "code",
   "execution_count": 9,
   "id": "f580c246",
   "metadata": {},
   "outputs": [
    {
     "data": {
      "text/html": [
       "<div>\n",
       "<style scoped>\n",
       "    .dataframe tbody tr th:only-of-type {\n",
       "        vertical-align: middle;\n",
       "    }\n",
       "\n",
       "    .dataframe tbody tr th {\n",
       "        vertical-align: top;\n",
       "    }\n",
       "\n",
       "    .dataframe thead th {\n",
       "        text-align: right;\n",
       "    }\n",
       "</style>\n",
       "<table border=\"1\" class=\"dataframe\">\n",
       "  <thead>\n",
       "    <tr style=\"text-align: right;\">\n",
       "      <th></th>\n",
       "      <th>OPEN</th>\n",
       "      <th>HIGH</th>\n",
       "      <th>LOW</th>\n",
       "      <th>close</th>\n",
       "      <th>vwap</th>\n",
       "      <th>VOLUME</th>\n",
       "      <th>No_of_trades</th>\n",
       "    </tr>\n",
       "  </thead>\n",
       "  <tbody>\n",
       "    <tr>\n",
       "      <th>count</th>\n",
       "      <td>315.000000</td>\n",
       "      <td>315.000000</td>\n",
       "      <td>315.000000</td>\n",
       "      <td>315.000000</td>\n",
       "      <td>315.000000</td>\n",
       "      <td>3.150000e+02</td>\n",
       "      <td>3.150000e+02</td>\n",
       "    </tr>\n",
       "    <tr>\n",
       "      <th>mean</th>\n",
       "      <td>732.726508</td>\n",
       "      <td>742.706984</td>\n",
       "      <td>721.210476</td>\n",
       "      <td>731.466190</td>\n",
       "      <td>732.283714</td>\n",
       "      <td>4.128006e+06</td>\n",
       "      <td>1.060930e+05</td>\n",
       "    </tr>\n",
       "    <tr>\n",
       "      <th>std</th>\n",
       "      <td>86.968194</td>\n",
       "      <td>89.977693</td>\n",
       "      <td>84.668275</td>\n",
       "      <td>87.226401</td>\n",
       "      <td>87.439886</td>\n",
       "      <td>6.691874e+06</td>\n",
       "      <td>1.850256e+05</td>\n",
       "    </tr>\n",
       "    <tr>\n",
       "      <th>min</th>\n",
       "      <td>570.850000</td>\n",
       "      <td>579.150000</td>\n",
       "      <td>557.000000</td>\n",
       "      <td>570.850000</td>\n",
       "      <td>568.320000</td>\n",
       "      <td>5.921370e+05</td>\n",
       "      <td>1.949400e+04</td>\n",
       "    </tr>\n",
       "    <tr>\n",
       "      <th>25%</th>\n",
       "      <td>656.225000</td>\n",
       "      <td>662.375000</td>\n",
       "      <td>643.025000</td>\n",
       "      <td>653.400000</td>\n",
       "      <td>654.075000</td>\n",
       "      <td>1.667305e+06</td>\n",
       "      <td>4.238500e+04</td>\n",
       "    </tr>\n",
       "    <tr>\n",
       "      <th>50%</th>\n",
       "      <td>727.950000</td>\n",
       "      <td>734.700000</td>\n",
       "      <td>719.150000</td>\n",
       "      <td>724.350000</td>\n",
       "      <td>726.740000</td>\n",
       "      <td>2.502607e+06</td>\n",
       "      <td>6.575900e+04</td>\n",
       "    </tr>\n",
       "    <tr>\n",
       "      <th>75%</th>\n",
       "      <td>806.000000</td>\n",
       "      <td>819.700000</td>\n",
       "      <td>790.925000</td>\n",
       "      <td>806.100000</td>\n",
       "      <td>806.840000</td>\n",
       "      <td>4.329811e+06</td>\n",
       "      <td>1.070020e+05</td>\n",
       "    </tr>\n",
       "    <tr>\n",
       "      <th>max</th>\n",
       "      <td>925.000000</td>\n",
       "      <td>983.000000</td>\n",
       "      <td>911.350000</td>\n",
       "      <td>921.050000</td>\n",
       "      <td>925.410000</td>\n",
       "      <td>8.284803e+07</td>\n",
       "      <td>2.259771e+06</td>\n",
       "    </tr>\n",
       "  </tbody>\n",
       "</table>\n",
       "</div>"
      ],
      "text/plain": [
       "             OPEN        HIGH         LOW       close        vwap  \\\n",
       "count  315.000000  315.000000  315.000000  315.000000  315.000000   \n",
       "mean   732.726508  742.706984  721.210476  731.466190  732.283714   \n",
       "std     86.968194   89.977693   84.668275   87.226401   87.439886   \n",
       "min    570.850000  579.150000  557.000000  570.850000  568.320000   \n",
       "25%    656.225000  662.375000  643.025000  653.400000  654.075000   \n",
       "50%    727.950000  734.700000  719.150000  724.350000  726.740000   \n",
       "75%    806.000000  819.700000  790.925000  806.100000  806.840000   \n",
       "max    925.000000  983.000000  911.350000  921.050000  925.410000   \n",
       "\n",
       "             VOLUME  No_of_trades   \n",
       "count  3.150000e+02   3.150000e+02  \n",
       "mean   4.128006e+06   1.060930e+05  \n",
       "std    6.691874e+06   1.850256e+05  \n",
       "min    5.921370e+05   1.949400e+04  \n",
       "25%    1.667305e+06   4.238500e+04  \n",
       "50%    2.502607e+06   6.575900e+04  \n",
       "75%    4.329811e+06   1.070020e+05  \n",
       "max    8.284803e+07   2.259771e+06  "
      ]
     },
     "execution_count": 9,
     "metadata": {},
     "output_type": "execute_result"
    }
   ],
   "source": [
    "df.describe()"
   ]
  },
  {
   "cell_type": "markdown",
   "id": "cbc42e8a",
   "metadata": {},
   "source": [
    "### Exploratory Data Analysis"
   ]
  },
  {
   "cell_type": "code",
   "execution_count": 10,
   "id": "98873e1d",
   "metadata": {
    "scrolled": true
   },
   "outputs": [
    {
     "data": {
      "image/png": "[encoded data removed]",
      "text/plain": [
       "<Figure size 720x360 with 1 Axes>"
      ]
     },
     "metadata": {
      "needs_background": "light"
     },
     "output_type": "display_data"
    }
   ],
   "source": [
    "df.plot(x=\"Date\", y=['OPEN'], figsize=(10, 5), grid = True)\n",
    "plt.show()"
   ]
  },
  {
   "cell_type": "code",
   "execution_count": 11,
   "id": "5a53d0b9",
   "metadata": {},
   "outputs": [
    {
     "data": {
      "text/plain": [
       "<AxesSubplot:>"
      ]
     },
     "execution_count": 11,
     "metadata": {},
     "output_type": "execute_result"
    },
    {
     "data": {
      "image/png": "[encoded data removed]",
      "text/plain": [
       "<Figure size 864x576 with 2 Axes>"
      ]
     },
     "metadata": {
      "needs_background": "light"
     },
     "output_type": "display_data"
    }
   ],
   "source": [
    "plt.figure(figsize=(12,8))\n",
    "sns.heatmap(df.corr(), cmap=\"YlGnBu\", annot = True)"
   ]
  },
  {
   "cell_type": "markdown",
   "id": "c3b18023",
   "metadata": {},
   "source": [
    "- Here 'close' price is to predict.\n",
    "- 'close' feature is directly proportion to 'OPEN','HIGH','LOW','vwap'(volume weighted average price).\n",
    "- According to heatmap 'VOLUME' is not really affect 'close' price. But in stock market volume matters in price change."
   ]
  },
  {
   "cell_type": "markdown",
   "id": "fc646cb1",
   "metadata": {},
   "source": [
    "### ML Model"
   ]
  },
  {
   "cell_type": "code",
   "execution_count": 12,
   "id": "8057d979",
   "metadata": {},
   "outputs": [],
   "source": [
    "from sklearn.model_selection import train_test_split\n",
    "from sklearn.linear_model import LinearRegression\n",
    "from sklearn import metrics\n",
    "from sklearn.metrics import confusion_matrix, accuracy_score"
   ]
  },
  {
   "cell_type": "code",
   "execution_count": 13,
   "id": "33fbdf3a",
   "metadata": {},
   "outputs": [],
   "source": [
    "X = df[['OPEN','HIGH','LOW','vwap','VOLUME']]\n",
    "y = df['close']"
   ]
  },
  {
   "cell_type": "code",
   "execution_count": 14,
   "id": "01f4e0e4",
   "metadata": {},
   "outputs": [],
   "source": [
    "X_train, X_test, y_train, y_test = train_test_split(X,y,test_size = .25, random_state=0)"
   ]
  },
  {
   "cell_type": "code",
   "execution_count": 15,
   "id": "a67dd902",
   "metadata": {},
   "outputs": [
    {
     "data": {
      "text/plain": [
       "(236, 5)"
      ]
     },
     "execution_count": 15,
     "metadata": {},
     "output_type": "execute_result"
    }
   ],
   "source": [
    "X_train.shape"
   ]
  },
  {
   "cell_type": "code",
   "execution_count": 16,
   "id": "640aa49e",
   "metadata": {},
   "outputs": [
    {
     "data": {
      "text/plain": [
       "(79, 5)"
      ]
     },
     "execution_count": 16,
     "metadata": {},
     "output_type": "execute_result"
    }
   ],
   "source": [
    "X_test.shape"
   ]
  },
  {
   "cell_type": "code",
   "execution_count": 17,
   "id": "ad2d98f2",
   "metadata": {},
   "outputs": [],
   "source": [
    "regression = LinearRegression()"
   ]
  },
  {
   "cell_type": "code",
   "execution_count": 18,
   "id": "4d99c856",
   "metadata": {},
   "outputs": [
    {
     "data": {
      "text/plain": [
       "LinearRegression()"
      ]
     },
     "execution_count": 18,
     "metadata": {},
     "output_type": "execute_result"
    }
   ],
   "source": [
    "regression.fit(X_train, y_train)"
   ]
  },
  {
   "cell_type": "code",
   "execution_count": 19,
   "id": "607292ea",
   "metadata": {},
   "outputs": [
    {
     "name": "stdout",
     "output_type": "stream",
     "text": [
      "[ 8.04180486e-02 -3.24552342e-01 -3.24740096e-01  1.56372752e+00\n",
      "  4.52149906e-08]\n"
     ]
    }
   ],
   "source": [
    "print(regression.coef_)"
   ]
  },
  {
   "cell_type": "code",
   "execution_count": 20,
   "id": "f817acb1",
   "metadata": {},
   "outputs": [
    {
     "name": "stdout",
     "output_type": "stream",
     "text": [
      "2.781819876427221\n"
     ]
    }
   ],
   "source": [
    "print(regression.intercept_)"
   ]
  },
  {
   "cell_type": "code",
   "execution_count": 21,
   "id": "03138060",
   "metadata": {},
   "outputs": [],
   "source": [
    "predicted = regression.predict(X_test)"
   ]
  },
  {
   "cell_type": "code",
   "execution_count": 22,
   "id": "848dc536",
   "metadata": {},
   "outputs": [
    {
     "name": "stdout",
     "output_type": "stream",
     "text": [
      "       OPEN    HIGH     LOW    vwap    VOLUME\n",
      "65   894.60  899.90  848.60  874.46  11012459\n",
      "314  641.00  652.80  616.80  639.72   3338066\n",
      "150  657.00  665.00  650.00  656.85   1587641\n",
      "158  599.00  601.05  581.45  593.02   3552167\n",
      "108  840.85  840.95  819.45  828.63   3480544\n",
      "..      ...     ...     ...     ...       ...\n",
      "190  639.50  654.90  632.00  646.31   3211110\n",
      "103  769.00  775.75  766.00  770.13   2496305\n",
      "161  597.70  597.70  584.15  589.12   1686383\n",
      "90   730.95  738.60  719.05  729.73   4485413\n",
      "199  668.95  676.00  668.15  672.10   1526304\n",
      "\n",
      "[79 rows x 5 columns]\n"
     ]
    }
   ],
   "source": [
    "print(X_test)"
   ]
  },
  {
   "cell_type": "code",
   "execution_count": 23,
   "id": "cd8d7151",
   "metadata": {},
   "outputs": [
    {
     "data": {
      "text/plain": [
       "(79,)"
      ]
     },
     "execution_count": 23,
     "metadata": {},
     "output_type": "execute_result"
    }
   ],
   "source": [
    "predicted.shape"
   ]
  },
  {
   "cell_type": "code",
   "execution_count": 24,
   "id": "ffacf468",
   "metadata": {},
   "outputs": [],
   "source": [
    "dframe = pd.DataFrame(y_test, predicted)"
   ]
  },
  {
   "cell_type": "code",
   "execution_count": 25,
   "id": "48ce82be",
   "metadata": {},
   "outputs": [],
   "source": [
    "dfr = pd.DataFrame({'Actual Price' : y_test,\n",
    "                   'Predicted Price' : predicted})"
   ]
  },
  {
   "cell_type": "code",
   "execution_count": 26,
   "id": "b4fa638a",
   "metadata": {},
   "outputs": [
    {
     "name": "stdout",
     "output_type": "stream",
     "text": [
      "     Actual Price  Predicted Price\n",
      "65         856.90       874.999800\n",
      "314        628.05       642.661026\n",
      "150        654.70       655.914312\n",
      "158        594.35       594.542220\n",
      "108        822.35       827.269677\n",
      "..            ...              ...\n",
      "190        647.95       647.222014\n",
      "103        767.60       768.487249\n",
      "161        589.80       588.465230\n",
      "90         735.05       729.646355\n",
      "199        671.65       671.255271\n",
      "\n",
      "[79 rows x 2 columns]\n"
     ]
    }
   ],
   "source": [
    "print(dfr)"
   ]
  },
  {
   "cell_type": "code",
   "execution_count": 27,
   "id": "7e57f3e9",
   "metadata": {
    "scrolled": true
   },
   "outputs": [
    {
     "data": {
      "text/html": [
       "<div>\n",
       "<style scoped>\n",
       "    .dataframe tbody tr th:only-of-type {\n",
       "        vertical-align: middle;\n",
       "    }\n",
       "\n",
       "    .dataframe tbody tr th {\n",
       "        vertical-align: top;\n",
       "    }\n",
       "\n",
       "    .dataframe thead th {\n",
       "        text-align: right;\n",
       "    }\n",
       "</style>\n",
       "<table border=\"1\" class=\"dataframe\">\n",
       "  <thead>\n",
       "    <tr style=\"text-align: right;\">\n",
       "      <th></th>\n",
       "      <th>Actual Price</th>\n",
       "      <th>Predicted Price</th>\n",
       "    </tr>\n",
       "  </thead>\n",
       "  <tbody>\n",
       "    <tr>\n",
       "      <th>65</th>\n",
       "      <td>856.90</td>\n",
       "      <td>874.999800</td>\n",
       "    </tr>\n",
       "    <tr>\n",
       "      <th>314</th>\n",
       "      <td>628.05</td>\n",
       "      <td>642.661026</td>\n",
       "    </tr>\n",
       "    <tr>\n",
       "      <th>150</th>\n",
       "      <td>654.70</td>\n",
       "      <td>655.914312</td>\n",
       "    </tr>\n",
       "    <tr>\n",
       "      <th>158</th>\n",
       "      <td>594.35</td>\n",
       "      <td>594.542220</td>\n",
       "    </tr>\n",
       "    <tr>\n",
       "      <th>108</th>\n",
       "      <td>822.35</td>\n",
       "      <td>827.269677</td>\n",
       "    </tr>\n",
       "    <tr>\n",
       "      <th>275</th>\n",
       "      <td>717.30</td>\n",
       "      <td>715.873577</td>\n",
       "    </tr>\n",
       "    <tr>\n",
       "      <th>135</th>\n",
       "      <td>683.15</td>\n",
       "      <td>663.912610</td>\n",
       "    </tr>\n",
       "    <tr>\n",
       "      <th>116</th>\n",
       "      <td>752.75</td>\n",
       "      <td>764.947555</td>\n",
       "    </tr>\n",
       "    <tr>\n",
       "      <th>74</th>\n",
       "      <td>798.35</td>\n",
       "      <td>809.849780</td>\n",
       "    </tr>\n",
       "    <tr>\n",
       "      <th>262</th>\n",
       "      <td>718.10</td>\n",
       "      <td>720.491752</td>\n",
       "    </tr>\n",
       "  </tbody>\n",
       "</table>\n",
       "</div>"
      ],
      "text/plain": [
       "     Actual Price  Predicted Price\n",
       "65         856.90       874.999800\n",
       "314        628.05       642.661026\n",
       "150        654.70       655.914312\n",
       "158        594.35       594.542220\n",
       "108        822.35       827.269677\n",
       "275        717.30       715.873577\n",
       "135        683.15       663.912610\n",
       "116        752.75       764.947555\n",
       "74         798.35       809.849780\n",
       "262        718.10       720.491752"
      ]
     },
     "execution_count": 27,
     "metadata": {},
     "output_type": "execute_result"
    }
   ],
   "source": [
    "dfr.head(10)"
   ]
  },
  {
   "cell_type": "code",
   "execution_count": 28,
   "id": "0919ec62",
   "metadata": {},
   "outputs": [
    {
     "data": {
      "text/plain": [
       "0.9946722985825311"
      ]
     },
     "execution_count": 28,
     "metadata": {},
     "output_type": "execute_result"
    }
   ],
   "source": [
    "regression.score(X_test, y_test)"
   ]
  },
  {
   "cell_type": "code",
   "execution_count": 29,
   "id": "055a95e7",
   "metadata": {},
   "outputs": [
    {
     "name": "stdout",
     "output_type": "stream",
     "text": [
      "Mean Absolute error : 4.391301195940913\n"
     ]
    }
   ],
   "source": [
    "import math\n",
    "print('Mean Absolute error :', metrics.mean_absolute_error(y_test,predicted))"
   ]
  },
  {
   "cell_type": "code",
   "execution_count": 30,
   "id": "c6af6709",
   "metadata": {},
   "outputs": [
    {
     "name": "stdout",
     "output_type": "stream",
     "text": [
      "Mean Squared error : 38.87274000125459\n"
     ]
    }
   ],
   "source": [
    "print('Mean Squared error :', metrics.mean_squared_error(y_test,predicted))"
   ]
  },
  {
   "cell_type": "code",
   "execution_count": 32,
   "id": "f2797b4d",
   "metadata": {},
   "outputs": [
    {
     "name": "stdout",
     "output_type": "stream",
     "text": [
      "Root Mean Squared error : 6.234800718648078\n"
     ]
    }
   ],
   "source": [
    "print('Root Mean Squared error :', math.sqrt(metrics.mean_squared_error(y_test,predicted)))"
   ]
  },
  {
   "cell_type": "code",
   "execution_count": 33,
   "id": "90f0f4c5",
   "metadata": {},
   "outputs": [],
   "source": [
    "graph =dfr.head(20)"
   ]
  },
  {
   "cell_type": "code",
   "execution_count": 34,
   "id": "5d2bb80e",
   "metadata": {},
   "outputs": [
    {
     "data": {
      "text/plain": [
       "<AxesSubplot:>"
      ]
     },
     "execution_count": 34,
     "metadata": {},
     "output_type": "execute_result"
    },
    {
     "data": {
      "image/png": "[encoded data removed]",
      "text/plain": [
       "<Figure size 432x288 with 1 Axes>"
      ]
     },
     "metadata": {
      "needs_background": "light"
     },
     "output_type": "display_data"
    }
   ],
   "source": [
    "graph.plot(kind='bar')"
   ]
  },
  {
   "cell_type": "markdown",
   "id": "38f389fd",
   "metadata": {},
   "source": [
    "### Summary\n",
    "- There is 2% to 5% of difference in acutal price and predicted price. Most of the prediction was accurate.\n",
    "- This ML model (Linear Regression) is very usefull to positional tradings.\n",
    "- Stock price is also depends on market sentiment or pattern. So trade according to the market.\n",
    "- IRCTC is government stock, so that investing for a long term is very good from 03/02/2023."
   ]
  },
  {
   "cell_type": "code",
   "execution_count": null,
   "id": "791a4eb4",
   "metadata": {},
   "outputs": [],
   "source": []
  }
 ],
 "metadata": {
  "kernelspec": {
   "display_name": "Python 3 (ipykernel)",
   "language": "python",
   "name": "python3"
  },
  "language_info": {
   "codemirror_mode": {
    "name": "ipython",
    "version": 3
   },
   "file_extension": ".py",
   "mimetype": "text/x-python",
   "name": "python",
   "nbconvert_exporter": "python",
   "pygments_lexer": "ipython3",
   "version": "3.9.12"
  }
 },
 "nbformat": 4,
 "nbformat_minor": 5
}
